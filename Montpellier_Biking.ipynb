{
 "cells": [
  {
   "cell_type": "code",
   "execution_count": null,
   "metadata": {},
   "outputs": [],
   "source": [
    "# 1st approch :\n",
    "# First :\n",
    "#  using OSMnx package we obtain Montpellier's\n",
    "#  Network-graph (representation of a street-network from OpenStreetMap )\n",
    "#  We will then  pick the nearest osm-node for each coordonate tha we are interested in ,as well as the shortest paths inbetween them\n",
    "# Second :\n",
    "#  Modeling the events with  Casymda and SimPy\n",
    "# Last :\n",
    "#  Visualize with Leaflet.js"
   ]
  },
  {
   "cell_type": "code",
   "execution_count": null,
   "metadata": {},
   "outputs": [],
   "source": [
    "# importing ncessary packages \n",
    "import osmnx as ox\n",
    "import pandas as pd\n",
    "import numpy as np\n",
    "import matplotlib.pyplot as plt\n",
    "from osmnx import footprints_from_place\n",
    "from IPython.display import Image\n",
    "import folium\n",
    "ox.config(log_console=True, use_cache=True)\n",
    "ox.__version__"
   ]
  },
  {
   "cell_type": "code",
   "execution_count": null,
   "metadata": {},
   "outputs": [],
   "source": [
    "#Montpellier's map (graph) \n",
    "graph = ox.graph_from_place('montpellier, France', network_type='all') #Fetch OSM street network from the location\n",
    "gdf = ox.project_graph(graph) #the street network\n",
    "type(graph)#Verifing the that the type is networkx.classes.multidigraph.MultiDiGraph\n",
    "#Plot the street\n",
    "type(gdf)"
   ]
  },
  {
   "cell_type": "code",
   "execution_count": null,
   "metadata": {},
   "outputs": [],
   "source": [
    "                                        \n",
    "#Test : a map with one route \n",
    "route = ox.shortest_path(graph,compt_nod[2],compt_nod[7])\n",
    "img_folder = 'images'\n",
    "extension = 'png'\n",
    "size = 600\n",
    "dpi = 800\n",
    "route = \n",
    "street_widths = {'footway':0.5,\n",
    "                'steps ': 0.5,\n",
    "                'path' : 0.5,\n",
    "                'track': 0.5,\n",
    "                'service': 1,\n",
    "                'residential': 1,\n",
    "                'primary' : 3}\n",
    "place = 'montpellier, France'\n",
    "city = ox.geocode_to_gdf('montpellier, France')\n",
    "ax = ox.project_gdf(city).plot()\n",
    "fig, ax = ox.plot_figure_ground(address=place , dist= 3000,network_type='bike',\n",
    "                                       street_widths=street_widths , dpi = dpi)\n",
    "Image('{}/{}.{}'.format(img_folder, place, extension), height=size, width=size)\n",
    "\n",
    "fig, ax = ox.plot_graph_route(graph, route, route_linewidth=6, node_size=0, bgcolor='k',route_alpha=0.1)\n"
   ]
  },
  {
   "cell_type": "code",
   "execution_count": null,
   "metadata": {},
   "outputs": [],
   "source": [
    "#a map with multiple routes \n",
    "\n",
    "cspn = ox.utils_graph.count_streets_per_node(graph)# nodes in our graph \n",
    "# %%\n",
    "import networkx as nx \n",
    "g = nx.Graph(graph)\n",
    "# %% \n",
    "\n",
    "nod = list(g.nodes().keys())\n",
    "len(cspn)\n",
    "\n",
    "pos = ((43.60969924926758,3.896939992904663),(43.5907,3.81324),(43.61465,3.8336),(43.57926,3.93327),(43.57883,3.93324,),(43.6157418,3.9096322),(43.6138841,3.8684671),(43.61620945549243,3.874408006668091),(43.6266977,3.8956288),(43.6266977,3.8956288), (43.614660,3.833050), (43.615400,3.873950),(43.612690,3.895570),(43.626300,3.895110),(43.613880,3.868470), (43.5806384,3.9300896),(43.58639,3.80611),(43.617,3.911),())\n",
    "compt_nod = np.arange(start = 0 , stop = len(pos) ,dtype=np.int64)\n",
    "for i in [0,1,2,3,4,5,6,7,8,9,10,11,12,13,14,15,16,17,18] :\n",
    "        compt_nod[i]= ox.distance.get_nearest_node(graph ,pos[i])\n",
    "        print(compt_nod) #the nearest nod to every coordinate we interesting in \n",
    "\n",
    "ox.distance.get_nearest_node(graph ,pos[0])#Test \n",
    "import random\n",
    "#Get a list of lists of routes between the nodes that correspond to the nodes of compt_nod\n",
    "routes = np.arange(start = 0 , stop = 10 ,dtype=list)\n",
    "routes = []\n",
    "r = list([0,1,3,4,5,6,7,8,9,10,11,12,13,14,15,16,17])\n",
    "random.shuffle(r)\n",
    "routes.append(ox.shortest_path(graph,compt_nod[2],compt_nod[7]))\n",
    "for i in r :\n",
    "    routes.append(ox.shortest_path(graph,compt_nod[i],compt_nod[i+1]))\n",
    "    print(routes)\n",
    "routes = list(routes)\n",
    "len(routes)\n"
   ]
  },
  {
   "cell_type": "code",
   "execution_count": null,
   "metadata": {},
   "outputs": [],
   "source": [
    "ox.plot_graph_routes(graph,routes,node_size=0.5, route_colors='red',route_linewidth=3,bgcolor='k' ,route_alpha=0.1)\n"
   ]
  }
 ],
 "metadata": {
  "kernelspec": {
   "display_name": "Python 3",
   "language": "python",
   "name": "python3"
  },
  "language_info": {
   "codemirror_mode": {
    "name": "ipython",
    "version": 3
   },
   "file_extension": ".py",
   "mimetype": "text/x-python",
   "name": "python",
   "nbconvert_exporter": "python",
   "pygments_lexer": "ipython3",
   "version": "3.8.5"
  }
 },
 "nbformat": 4,
 "nbformat_minor": 4
}
