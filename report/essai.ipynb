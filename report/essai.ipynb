{
 "metadata": {
  "language_info": {
   "codemirror_mode": {
    "name": "ipython",
    "version": 3
   },
   "file_extension": ".py",
   "mimetype": "text/x-python",
   "name": "python",
   "nbconvert_exporter": "python",
   "pygments_lexer": "ipython3",
   "version": 3
  },
  "orig_nbformat": 2
 },
 "nbformat": 4,
 "nbformat_minor": 2,
 "cells": [
  {
   "source": [
    "# Visualization of bike trafic in Montpellier\n",
    "\n",
    "## I) Montpellier_Biking presentation\n",
    "\n",
    "This package contain a program which is a graphic interface to modelise bike traffic in Montpellier. \n",
    "\n",
    "Run program.py \n",
    "\n",
    "First step select the week you want to modelise.\n",
    "\n",
    "Second step select days you want to modelise.\n",
    "\n",
    "Then press make video ! \n",
    "\n",
    "It will create you a video by day."
   ],
   "cell_type": "markdown",
   "metadata": {}
  },
  {
   "source": [
    "![Guide](tuto.png)"
   ],
   "cell_type": "markdown",
   "metadata": {}
  },
  {
   "source": [
    "## II) How works montpellier_biking's package\n",
    "\n",
    "We use *osmnx* package to load Montpellier's map"
   ],
   "cell_type": "markdown",
   "metadata": {}
  },
  {
   "cell_type": "code",
   "execution_count": null,
   "metadata": {},
   "outputs": [],
   "source": [
    "import osmnx as ox\n",
    "G = ox.graph_from_place('Montpellier, France', 'bike')\n",
    "ox.plot_graph(G,node_size=0)"
   ]
  },
  {
   "source": [
    "### II-1 Data\n",
    "\n",
    "We create a class Load_db to collect data of Montpellier Mediterannée Metropole's site. \n",
    "Data is number of bike passing threw *eco-counter* each day.\n"
   ],
   "cell_type": "markdown",
   "metadata": {}
  },
  {
   "cell_type": "code",
   "execution_count": null,
   "metadata": {},
   "outputs": [],
   "source": [
    "import montpellier_biking as mb\n",
    "mb.io.Load_db.Load_db().set_df()"
   ]
  },
  {
   "source": [
    "First we can see that the package osmnx take a lot of time to load Montpellier's graph, we tried to find a solution like save the graph, but methods proposed by the package don't work very well."
   ],
   "cell_type": "markdown",
   "metadata": {}
  },
  {
   "source": [
    "### II-2 Counters\n",
    "\n",
    "We create a class named *Counter*. This class is the base of the model. It represent an eco-counter, basicly reprented by it's position on the graph, and the number of bike passed a day.\n",
    "\n",
    "In this class we have important function like *generate_random_route*, *set_matrix* and also *list_for_ani*. They are made to simulate bike traffic. \n",
    "The point that we only have the number of bike passing, we don't know when, we don't were come from the bike and were does he go. So the way we found to simulate the flow is to make it totally random. The function  *generate_random_route* generate a random route passing threw a counter, set_matrix modelise the traffic for a day by generating random routes, the matrix is cut in 24 parts, for each hour of the day. Each hour passing is approximate from bike passing repartition of \"Albert 1er\" (Montpellier_totem gives more statement for the counter situated at \"Albert 1er\").\n",
    "So each line of the created matrix is a list of node to plot at the time 'i'. We concatenate them for all counters and we got our simulation.\n"
   ],
   "cell_type": "markdown",
   "metadata": {}
  },
  {
   "cell_type": "code",
   "execution_count": null,
   "metadata": {},
   "outputs": [],
   "source": [
    "import numpy as np\n",
    "from montpellier_biking.model.counters import Counter\n",
    "def set_matrix(self, quality=2880):\n",
    "        M1 = np.zeros((quality, quality))\n",
    "        for j in range(24):\n",
    "            i = 0\n",
    "            while i <= Counter.bike_distribution[j]*self.bikes/100:\n",
    "                route, lengh = Counter.generate_random_route(self)\n",
    "                try:  # random bike passing time\n",
    "                    random_pass = np.random.randint(low=120*j+lengh,\n",
    "                                                    high=120*(j+1))\n",
    "                    M1[random_pass-(lengh):random_pass+len(route)-lengh,\n",
    "                       i+j*120] = route\n",
    "                except Exception:  # last hour can't exceed 2880\n",
    "                    random_pass = np.random.randint(low=min(len(route)+120*j,\n",
    "                                                    120*(j+1)-1),\n",
    "                                                    high=120*(j+1))\n",
    "                    M1[random_pass-len(route):random_pass, i+j*120] = route\n",
    "                i += 1\n",
    "        #return sparse.csr_matrix(M1)  <- used in the package                                                                                                \n",
    "        return M1"
   ]
  },
  {
   "source": [
    "The disadvantage of this function is that it create a huge squared matrix, it size is the number of frame of our animation, moreover there is a lot of zeros because most of time there is no bike in the city, specially at the start and the end of the day.\n",
    "For exemple we take a look at the matrix created for a day that passed 1500 bikes at Albert11er. That's why we return a sparse matrix."
   ],
   "cell_type": "markdown",
   "metadata": {}
  },
  {
   "cell_type": "code",
   "execution_count": null,
   "metadata": {},
   "outputs": [],
   "source": [
    "import time\n",
    "t = time.time()\n",
    "Albert1er = mb.counters.Counter(coordinates=(43.61620945549243,\n",
    "                                              3.874408006668091),\n",
    "                                 node=ox.distance.get_nearest_node(G,\n",
    "                                 (43.61620945549243, 3.874408006668091)),\n",
    "                                 bikes=1500, name=\"Albert1er\")\n",
    "print(time.time()-t)"
   ]
  },
  {
   "cell_type": "code",
   "execution_count": null,
   "metadata": {},
   "outputs": [],
   "source": [
    "import matplotlib.pyplot as plt\n",
    "t = time.time()\n",
    "Matrix_exemple = set_matrix(Albert1er)\n",
    "print(time.time()-t)\n",
    "plt.imshow(Matrix_exemple)"
   ]
  },
  {
   "source": [
    "We can see here that the matrix is mainly composed of zeros (purple part). So we return a sparse matrix to save memory. How much time to covert this matrix into a sparse martix ?"
   ],
   "cell_type": "markdown",
   "metadata": {}
  },
  {
   "cell_type": "code",
   "execution_count": null,
   "metadata": {},
   "outputs": [],
   "source": [
    "from scipy import sparse\n",
    "t = time.time()\n",
    "sparse.csr_matrix(Matrix_exemple)\n",
    "print(time.time()-t)"
   ]
  },
  {
   "source": [
    "Not much time if we compare it to the time to create the matrix, and it saves a lot of memory! There is still a problematic, it takes much time to create matrix. Let's see if we can make it faster with the package *numba*. "
   ],
   "cell_type": "markdown",
   "metadata": {}
  },
  {
   "cell_type": "code",
   "execution_count": null,
   "metadata": {},
   "outputs": [],
   "source": [
    "from numba import jit\n",
    "\n",
    "route, lengh = Counter.generate_random_route(Albert1er) # fix the route to compare performances\n",
    "\n",
    "@jit(nopython=True, parallel=True)\n",
    "def set_matrix_numba(self, quality=2880):\n",
    "        M1 = np.zeros((quality, quality))\n",
    "        for j in range(24):\n",
    "            i = 0\n",
    "            while i <= Counter.bike_distribution[j]*self.bikes/100:\n",
    "                \n",
    "                try:  # random bike passing time\n",
    "                    random_pass = np.random.randint(low=120*j+lengh,\n",
    "                                                    high=120*(j+1))\n",
    "                    M1[random_pass-(lengh):random_pass+len(route)-lengh,\n",
    "                       i+j*120] = route\n",
    "                except Exception:  # last hour can't exceed 2880\n",
    "                    random_pass = np.random.randint(low=min(len(route)+120*j,\n",
    "                                                    120*(j+1)-1),\n",
    "                                                    high=120*(j+1))\n",
    "                    M1[random_pass-len(route):random_pass, i+j*120] = route\n",
    "                i += 1\n",
    "        return sparse.csr_matrix(M1) "
   ]
  },
  {
   "cell_type": "code",
   "execution_count": null,
   "metadata": {},
   "outputs": [],
   "source": [
    "t = time.time()\n",
    "Matrix_exemple_numba = set_matrix_numba(Albert1er)\n",
    "print(time.time()-t)"
   ]
  },
  {
   "source": [
    "This package is only efficient for little function with for loops, it doesn't work for our function set_matrix because of the while loop, but maybe we can earn time on generating routes or converting node to scatter coordinates, they are little but we use them a lot of time (number of bikes, or number of frames)."
   ],
   "cell_type": "markdown",
   "metadata": {}
  },
  {
   "cell_type": "code",
   "execution_count": null,
   "metadata": {},
   "outputs": [],
   "source": [
    "    @jit(parallel=True)\n",
    "    def route_to_scatter_numba(route):\n",
    "        if len(route) != 0:\n",
    "            scatter_list = []\n",
    "            for j in range(len(route)):\n",
    "                scatter = [G.nodes[route[j]]['x'], G.nodes[route[j]]['y']]\n",
    "                scatter_list.append(scatter)\n",
    "            return scatter_list"
   ]
  },
  {
   "cell_type": "code",
   "execution_count": null,
   "metadata": {},
   "outputs": [],
   "source": [
    "t=time.time()\n",
    "for i in range(1000):\n",
    "    route_to_scatter_numba(route)\n",
    "print(time.time()-t)"
   ]
  },
  {
   "cell_type": "code",
   "execution_count": null,
   "metadata": {},
   "outputs": [],
   "source": [
    "t=time.time()\n",
    "for i in range(1000):\n",
    "    Counter.route_to_scatter(route)\n",
    "print(time.time()-t)"
   ]
  },
  {
   "source": [
    "Numba doesn't fit well with our Graph class, it take much more time. We won't use it in our package."
   ],
   "cell_type": "markdown",
   "metadata": {}
  },
  {
   "source": [
    "# A general presentation of the data :\n",
    "\n",
    "In  this notebook we will presente in diffrent histograms the data provided to work with in order to give a more clear idea on bikes circulation flow in Montpellier city .\n",
    "\n",
    "## The Data :\n",
    "\n",
    "We will first import the packages needed to provide these charts ,as well as the data we will be working with .\n"
   ],
   "cell_type": "markdown",
   "metadata": {}
  },
  {
   "cell_type": "code",
   "execution_count": null,
   "metadata": {},
   "outputs": [],
   "source": [
    "#Importing the packages \n",
    "import pandas\n",
    "import matplotlib.pyplot as plt"
   ]
  },
  {
   "cell_type": "code",
   "execution_count": null,
   "metadata": {},
   "outputs": [],
   "source": [
    "# Total on average per day \n",
    "# The sum of bikes in the whole city(all counters combined) for each day in a week(average in a year):\n",
    "Monday = 1022+1273+772+769+1082+446+172 + 237\n",
    "Tuesday=1139 + 1473+849+853+1261+481+236+267\n",
    "Wednesday=1205 + 1547+761+825+1195+496+228+245\n",
    "Thursday=1126+1497+825+870+1191+490+225+263\n",
    "Friday=982 +1340+759+801+1047+445+152+209\n",
    "Saturday =1009 +849 +499+617 +694 +484+248+90\n",
    "Sunday = 1077 +652 +447+536+436 +516+303+90\n",
    "x = [Monday,Tuesday,Wednesday,Thursday,Friday,Saturday,Sunday]"
   ]
  },
  {
   "cell_type": "code",
   "execution_count": null,
   "metadata": {},
   "outputs": [],
   "source": [
    "x1 = ('Monday','Tuesday','Wednesday','Thursday','Friday','Saturday','Sunday')\n",
    "# Average number per day for each counter :\n",
    "x_Beracasa  =[1022,1139,1205,1126,982,1009,1077]\n",
    "x_Albert_1er  =[1273,1473,1547,1497,1340,849,652]\n",
    "x_Celleneuve   =[772,849,761,825,759,499,447]\n",
    "x_Delmas = [769,853,825,870,801,617,536]\n",
    "x_Gerhardt = [1082,1261,1195,1191,1047,694,436]\n",
    "x_Lattes =[446,481,496,490,445,484,516]\n",
    "x_Laverune = [172,236,228,225,152,248,303]\n",
    "x_Vielle_poste = [237,267,245,263,209,90,90]"
   ]
  },
  {
   "source": [
    "## The total average number of bikes in Montpellier city:\n",
    "\n",
    "The first histogram represents the average number of bikes that circules per a day in a week in the city(yearly average for all counters combined)"
   ],
   "cell_type": "markdown",
   "metadata": {}
  },
  {
   "cell_type": "code",
   "execution_count": null,
   "metadata": {},
   "outputs": [],
   "source": [
    "#Total average (all counters cobined):\n",
    "plt.bar(x1,x, edgecolor = 'k')\n",
    "plt.title('The average number of bikes that circles in the whole city per day during a week')\n",
    "plt.xlabel('Days of a week')\n",
    "plt.ylabel('Number on average')\n",
    "plt.show()"
   ]
  },
  {
   "source": [
    "## The average number of bikes per day in a week that passes by the counter in Beracasa:"
   ],
   "cell_type": "markdown",
   "metadata": {}
  },
  {
   "cell_type": "code",
   "execution_count": null,
   "metadata": {},
   "outputs": [],
   "source": [
    "plt.bar(x1,x_Beracasa, edgecolor = 'k')\n",
    "plt.title('Average number of bikes passing by Beracasa counter per day in a week')\n",
    "plt.xlabel('Days of a week')\n",
    "plt.ylabel('Number on average')\n",
    "plt.show()"
   ]
  },
  {
   "source": [
    "## The average number of bikes per day in a week that passes by the counter in Albert 1er: "
   ],
   "cell_type": "markdown",
   "metadata": {}
  },
  {
   "cell_type": "code",
   "execution_count": null,
   "metadata": {},
   "outputs": [],
   "source": [
    "\n",
    "#Albert 1er counter \n",
    "\n",
    "plt.bar(x1,x_Albert_1er, edgecolor = 'k')\n",
    "plt.title('Average number of bikes passing by Albert 1er counter per day in a week')\n",
    "plt.xlabel('Days of a week')\n",
    "plt.ylabel('Number on average')\n",
    "plt.show()"
   ]
  },
  {
   "source": [
    "## The average number of bikes per day in a week that passes by the counter in Celleneuve:"
   ],
   "cell_type": "markdown",
   "metadata": {}
  },
  {
   "cell_type": "code",
   "execution_count": null,
   "metadata": {},
   "outputs": [],
   "source": [
    "# Celleneuve counter\n",
    "\n",
    "plt.bar(x1,x_Celleneuve, edgecolor = 'k')\n",
    "plt.title('Average number of bikes passing by Celleneuve counter per day in a week')\n",
    "plt.xlabel('Days of a week')\n",
    "plt.ylabel('Number on average')\n",
    "plt.show()"
   ]
  },
  {
   "source": [
    "## The average number of bikes per day in a week that passes by the counter in Delmas:"
   ],
   "cell_type": "markdown",
   "metadata": {}
  },
  {
   "cell_type": "code",
   "execution_count": null,
   "metadata": {},
   "outputs": [],
   "source": [
    "# Delmas counter \n",
    "\n",
    "plt.bar(x1,x_Delmas, edgecolor = 'k')\n",
    "plt.title('Average number of bikes passing by Delmas counter per day in a week')\n",
    "plt.xlabel('Days of a week')\n",
    "plt.ylabel('Number on average')\n",
    "plt.show()"
   ]
  },
  {
   "source": [
    "## The average number of bikes per day in a week that passes by the counter in Gerhardt:"
   ],
   "cell_type": "markdown",
   "metadata": {}
  },
  {
   "cell_type": "code",
   "execution_count": null,
   "metadata": {},
   "outputs": [],
   "source": [
    "# Gerhardt counter \n",
    "\n",
    "plt.bar(x1,x_Gerhardt, edgecolor = 'k')\n",
    "plt.title('Average number of bikes passing by Gerhardt counter per day in a week')\n",
    "plt.xlabel('Days of a week')\n",
    "plt.ylabel('Number on average')\n",
    "plt.show()"
   ]
  },
  {
   "source": [
    "## The average number of bikes per day in a week that passes by the counter in Lattes:"
   ],
   "cell_type": "markdown",
   "metadata": {}
  },
  {
   "cell_type": "code",
   "execution_count": null,
   "metadata": {},
   "outputs": [],
   "source": [
    "#Lattes counters\n",
    "\n",
    "plt.bar(x1,x_Lattes, edgecolor = 'k')\n",
    "plt.title('Average number of bikes passing by Lattes counter per day in a week')\n",
    "plt.xlabel('Days of a week')\n",
    "plt.ylabel('Number on average')\n",
    "plt.show()"
   ]
  },
  {
   "source": [
    "## The average number of bikes per day in a week that passes by the counter in Laverune:"
   ],
   "cell_type": "markdown",
   "metadata": {}
  },
  {
   "cell_type": "code",
   "execution_count": null,
   "metadata": {},
   "outputs": [],
   "source": [
    "#Laverune counter\n",
    "\n",
    "plt.bar(x1,x_Laverune, edgecolor = 'k')\n",
    "plt.title('Average number of bikes passing by Laverune counter per day in a week')\n",
    "plt.xlabel('Days of a week')\n",
    "plt.ylabel('Number on average')\n",
    "plt.show()"
   ]
  },
  {
   "source": [
    "## The average number of bikes per day in a week that passes by the counter in Vielle-poste:"
   ],
   "cell_type": "markdown",
   "metadata": {}
  },
  {
   "cell_type": "code",
   "execution_count": null,
   "metadata": {},
   "outputs": [],
   "source": [
    "# Vielle-Poste counter :\n",
    "\n",
    "plt.bar(x1,x_Vielle_poste, edgecolor = 'k')\n",
    "plt.title('Average number of bikes passing by  Vielle-poste counter per day in a week')\n",
    "plt.xlabel('Days of a week')\n",
    "plt.ylabel('Number on average')\n",
    "plt.show()"
   ]
  },
  {
   "source": [
    "Widget : https://poncheele.github.io/Prediction_velo/ "
   ],
   "cell_type": "markdown",
   "metadata": {}
  }
 ]
}