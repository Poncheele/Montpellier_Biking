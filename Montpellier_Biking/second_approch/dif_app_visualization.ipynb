{
 "cells": [
  {
   "cell_type": "code",
   "execution_count": null,
   "metadata": {},
   "outputs": [],
   "source": [
    "# importing ncessary packages \n",
    "import osmnx as ox\n",
    "import pandas as pd\n",
    "import numpy as np\n",
    "import matplotlib.pyplot as plt\n",
    "from osmnx import footprints_from_place\n",
    "from IPython.display import Image\n",
    "import folium\n",
    "ox.config(log_console=True, use_cache=True)\n",
    "ox.__version__"
   ]
  },
  {
   "cell_type": "code",
   "execution_count": null,
   "metadata": {},
   "outputs": [],
   "source": [
    "# we need data that contains 4 colimns 1 for week days 2 number of bicycles passing 3 longitude and 4 latitude\n",
    "from datetime import datetime, timedelta\n",
    "import matplotlib.pyplot as plt\n",
    "import cartopy.crs as ccrs\n",
    "import pandas as pd\n",
    "from folium import MarkerCluster\n",
    "#Data processing :\n",
    "data = pd.read_csv('Datab.csv',sep =';')"
   ]
  },
  {
   "cell_type": "code",
   "execution_count": null,
   "metadata": {},
   "outputs": [],
   "source": [
    "#Fonction pour affecter la couleur du MarkerCircle selon le nombre vélos qui passesnt \n",
    "def color(c) : \n",
    "    if (c<90) : \n",
    "        return('blue')\n",
    "    elif(90 <= c < 200) : \n",
    "        return('green')\n",
    "    elif(200<=c<500) :\n",
    "        return('yellow')\n",
    "    elif(500<=c<100):\n",
    "        return('orange')\n",
    "    else : \n",
    "        return('red')\n",
    "# Fonction pour affecter le diametre du MarkerCircle selin le nombre des vélos qui passent \n",
    "def radius(c) : \n",
    "        return(c * 0.3)"
   ]
  }
 ],
 "metadata": {
  "kernelspec": {
   "display_name": "Python 3",
   "language": "python",
   "name": "python3"
  },
  "language_info": {
   "codemirror_mode": {
    "name": "ipython",
    "version": 3
   },
   "file_extension": ".py",
   "mimetype": "text/x-python",
   "name": "python",
   "nbconvert_exporter": "python",
   "pygments_lexer": "ipython3",
   "version": "3.8.5"
  }
 },
 "nbformat": 4,
 "nbformat_minor": 4
}
