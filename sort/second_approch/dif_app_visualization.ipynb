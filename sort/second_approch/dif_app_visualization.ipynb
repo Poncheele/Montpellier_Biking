{
 "cells": [
  {
   "cell_type": "code",
   "execution_count": 2,
   "metadata": {},
   "outputs": [
    {
     "output_type": "error",
     "ename": "ImportError",
     "evalue": "cannot import name 'footprints_from_place' from 'osmnx' (C:\\Users\\ponch\\anaconda3\\envs\\ox\\lib\\site-packages\\osmnx\\__init__.py)",
     "traceback": [
      "\u001b[1;31m---------------------------------------------------------------------------\u001b[0m",
      "\u001b[1;31mImportError\u001b[0m                               Traceback (most recent call last)",
      "\u001b[1;32m<ipython-input-2-5838c7c1539c>\u001b[0m in \u001b[0;36m<module>\u001b[1;34m\u001b[0m\n\u001b[0;32m      4\u001b[0m \u001b[1;32mimport\u001b[0m \u001b[0mnumpy\u001b[0m \u001b[1;32mas\u001b[0m \u001b[0mnp\u001b[0m\u001b[1;33m\u001b[0m\u001b[1;33m\u001b[0m\u001b[0m\n\u001b[0;32m      5\u001b[0m \u001b[1;32mimport\u001b[0m \u001b[0mmatplotlib\u001b[0m\u001b[1;33m.\u001b[0m\u001b[0mpyplot\u001b[0m \u001b[1;32mas\u001b[0m \u001b[0mplt\u001b[0m\u001b[1;33m\u001b[0m\u001b[1;33m\u001b[0m\u001b[0m\n\u001b[1;32m----> 6\u001b[1;33m \u001b[1;32mfrom\u001b[0m \u001b[0mosmnx\u001b[0m \u001b[1;32mimport\u001b[0m \u001b[0mfootprints_from_place\u001b[0m\u001b[1;33m\u001b[0m\u001b[1;33m\u001b[0m\u001b[0m\n\u001b[0m\u001b[0;32m      7\u001b[0m \u001b[1;32mfrom\u001b[0m \u001b[0mIPython\u001b[0m\u001b[1;33m.\u001b[0m\u001b[0mdisplay\u001b[0m \u001b[1;32mimport\u001b[0m \u001b[0mImage\u001b[0m\u001b[1;33m\u001b[0m\u001b[1;33m\u001b[0m\u001b[0m\n\u001b[0;32m      8\u001b[0m \u001b[1;32mimport\u001b[0m \u001b[0mfolium\u001b[0m\u001b[1;33m\u001b[0m\u001b[1;33m\u001b[0m\u001b[0m\n",
      "\u001b[1;31mImportError\u001b[0m: cannot import name 'footprints_from_place' from 'osmnx' (C:\\Users\\ponch\\anaconda3\\envs\\ox\\lib\\site-packages\\osmnx\\__init__.py)"
     ]
    }
   ],
   "source": [
    "# importing ncessary packages \n",
    "import osmnx as ox\n",
    "import pandas as pd\n",
    "import numpy as np\n",
    "import matplotlib.pyplot as plt\n",
    "from osmnx import footprints_from_place\n",
    "from IPython.display import Image\n",
    "import folium\n",
    "ox.config(log_console=True, use_cache=True)\n",
    "ox.__version__"
   ]
  },
  {
   "cell_type": "code",
   "execution_count": 3,
   "metadata": {},
   "outputs": [
    {
     "output_type": "error",
     "ename": "ModuleNotFoundError",
     "evalue": "No module named 'cartopy'",
     "traceback": [
      "\u001b[1;31m---------------------------------------------------------------------------\u001b[0m",
      "\u001b[1;31mModuleNotFoundError\u001b[0m                       Traceback (most recent call last)",
      "\u001b[1;32m<ipython-input-3-9eb6441cc7e7>\u001b[0m in \u001b[0;36m<module>\u001b[1;34m\u001b[0m\n\u001b[0;32m      2\u001b[0m \u001b[1;32mfrom\u001b[0m \u001b[0mdatetime\u001b[0m \u001b[1;32mimport\u001b[0m \u001b[0mdatetime\u001b[0m\u001b[1;33m,\u001b[0m \u001b[0mtimedelta\u001b[0m\u001b[1;33m\u001b[0m\u001b[1;33m\u001b[0m\u001b[0m\n\u001b[0;32m      3\u001b[0m \u001b[1;32mimport\u001b[0m \u001b[0mmatplotlib\u001b[0m\u001b[1;33m.\u001b[0m\u001b[0mpyplot\u001b[0m \u001b[1;32mas\u001b[0m \u001b[0mplt\u001b[0m\u001b[1;33m\u001b[0m\u001b[1;33m\u001b[0m\u001b[0m\n\u001b[1;32m----> 4\u001b[1;33m \u001b[1;32mimport\u001b[0m \u001b[0mcartopy\u001b[0m\u001b[1;33m.\u001b[0m\u001b[0mcrs\u001b[0m \u001b[1;32mas\u001b[0m \u001b[0mccrs\u001b[0m\u001b[1;33m\u001b[0m\u001b[1;33m\u001b[0m\u001b[0m\n\u001b[0m\u001b[0;32m      5\u001b[0m \u001b[1;32mimport\u001b[0m \u001b[0mpandas\u001b[0m \u001b[1;32mas\u001b[0m \u001b[0mpd\u001b[0m\u001b[1;33m\u001b[0m\u001b[1;33m\u001b[0m\u001b[0m\n\u001b[0;32m      6\u001b[0m \u001b[1;32mfrom\u001b[0m \u001b[0mfolium\u001b[0m \u001b[1;32mimport\u001b[0m \u001b[0mMarkerCluster\u001b[0m\u001b[1;33m\u001b[0m\u001b[1;33m\u001b[0m\u001b[0m\n",
      "\u001b[1;31mModuleNotFoundError\u001b[0m: No module named 'cartopy'"
     ]
    }
   ],
   "source": [
    "# we need data that contains 4 colimns 1 for week days 2 number of bicycles passing 3 longitude and 4 latitude\n",
    "from datetime import datetime, timedelta\n",
    "import matplotlib.pyplot as plt\n",
    "import cartopy.crs as ccrs\n",
    "import pandas as pd\n",
    "from folium import MarkerCluster\n",
    "#Data processing :\n",
    "data = pd.read_csv('Datab.csv',sep =';')"
   ]
  },
  {
   "cell_type": "code",
   "execution_count": null,
   "metadata": {},
   "outputs": [],
   "source": [
    "# Get an image on one day and then next loop on all the days of interest.\n",
    "#We will start with Monday'lundi'"
   ]
  },
  {
   "cell_type": "code",
   "execution_count": null,
   "metadata": {},
   "outputs": [],
   "source": [
    "#First : \n",
    "#Fonction pour affecter la couleur du MarkerCircle selon le nombre vélos qui passesnt \n",
    "# blue for n< 90\n",
    "# green for  90> n <200\n",
    "# yellow for  200 >500\n",
    "# orange for 500>1000\n",
    "# red for < 1000\n",
    "def color(c) : \n",
    "    if (c<90) : \n",
    "        return('blue')\n",
    "    elif(90 <= c < 200) : \n",
    "        return('green')\n",
    "    elif(200<=c<500) :\n",
    "        return('yellow')\n",
    "    elif(500<=c<100):\n",
    "        return('orange')\n",
    "    else : \n",
    "        return('red')\n",
    "# Fonction pour affecter le diametre du MarkerCircle selin le nombre des vélos qui passent \n",
    "def radius(c) : \n",
    "        return(c * 0.3)"
   ]
  },
  {
   "cell_type": "code",
   "execution_count": null,
   "metadata": {},
   "outputs": [],
   "source": [
    "df1 = data['Column1']\n",
    "\n",
    "\n",
    "\n",
    "monday_index = list()\n",
    "byciclesnmb_monday = list()\n",
    "for i in np.arange(start = 0 , stop = len(df1)-1) : \n",
    "    if (df1[i] == 'lundi'):\n",
    "        monday_index.append(i)\n",
    "\n",
    "        \n",
    "        \n",
    "        \n",
    "        \n",
    "for i in monday_index : \n",
    "    byciclesnmb_monday.append(data['Column2'][i])#The number on average that has passed on Monday for eauch compt \n",
    "len(monday_index) #= 8 \n",
    "len(byciclesnmb_monday) #=8\n",
    "\n",
    "\n",
    "\n",
    "\n",
    "lat_monday = list()\n",
    "for i in monday_index :\n",
    "    lat_monday.append(data['Column3'][i])#Latitude\n",
    "\n",
    "    \n",
    "    \n",
    "lon_monday = list()\n",
    "for i in monday_index :\n",
    "    lon_monday.append(data['Column4'][i])#Longitude\n"
   ]
  },
  {
   "cell_type": "code",
   "execution_count": null,
   "metadata": {},
   "outputs": [],
   "source": [
    "\n",
    "_radius=list()\n",
    "for i in np.arange(start = 0,stop= len(byciclesnmb_monday)) : \n",
    "    _radius.append(radius(byciclesnmb_monday[i]))\n",
    "\n",
    "    \n",
    "    \n",
    "\n",
    "_colors = list()\n",
    "for i in np.arange(start = 0,stop= len(byciclesnmb_monday)) : \n",
    "    _colors.append(color(byciclesnmb_monday[i]))\n"
   ]
  }
 ],
 "metadata": {
  "kernelspec": {
   "name": "python385jvsc74a57bd0e6249917abc84fbb22e9e07343b93c01a75f899d7cbb4fc7e9b86f8d4bfba12f",
   "display_name": "Python 3.8.5 64-bit ('ox': conda)"
  },
  "language_info": {
   "codemirror_mode": {
    "name": "ipython",
    "version": 3
   },
   "file_extension": ".py",
   "mimetype": "text/x-python",
   "name": "python",
   "nbconvert_exporter": "python",
   "pygments_lexer": "ipython3",
   "version": "3.8.5"
  }
 },
 "nbformat": 4,
 "nbformat_minor": 4
}