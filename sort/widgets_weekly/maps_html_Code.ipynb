{
 "cells": [
  {
   "cell_type": "code",
   "execution_count": 8,
   "metadata": {},
   "outputs": [],
   "source": [
    "# importing ncessary packages \n",
    "import ipywidgets as widgets\n",
    "import folium\n",
    "import pandas as pd\n",
    "import numpy as np"
   ]
  },
  {
   "cell_type": "code",
   "execution_count": 3,
   "metadata": {},
   "outputs": [],
   "source": [
    "# we need data that contains 4 columns the first column1 for week days the second (columns2) for number of bicycles passing ,the third (column3) longitude and the last,the fourth(column4) latitude\n",
    "from datetime import datetime, timedelta\n",
    "import matplotlib.pyplot as plt\n",
    "import pandas as pd\n",
    "#Data processing :\n",
    "data = pd.read_csv('C:/Users/wiam chaoui/Desktop/projetdevlog/Montpellier_Biking/Montpellier_Biking/widgets_weekly/Datab.csv',sep =';')\n",
    "df1 = data['Column1']"
   ]
  },
  {
   "cell_type": "code",
   "execution_count": 20,
   "metadata": {},
   "outputs": [],
   "source": [
    "#Fonction pour affecter la couleur du MarkerCircle selon le nombre vélos qui passesnt \n",
    "def color(c) : \n",
    "    if (c<90) : \n",
    "        return('blue')\n",
    "    elif(90 <= c < 200) : \n",
    "        return('green')\n",
    "    elif(200<=c<500) :\n",
    "        return('yellow')\n",
    "    elif(500<=c<1000):\n",
    "        return('orange')\n",
    "    else : \n",
    "        return('red')\n",
    "# Fonction pour affecter le diametre du MarkerCircle selin le nombre des vélos qui passent \n",
    "def radius(c) : \n",
    "        return(c * 0.3)\n",
    "def fill_color(c) : \n",
    "    if (c <= 90) : \n",
    "        return('blue')\n",
    "    elif(90 <= c < 200) : \n",
    "        return('green')\n",
    "    elif(200<=c<500) :\n",
    "        return('yellow')\n",
    "    elif(500<=c<1000):\n",
    "        return('orange')\n",
    "    else : \n",
    "        return('firebrick')"
   ]
  },
  {
   "cell_type": "code",
   "execution_count": 16,
   "metadata": {},
   "outputs": [],
   "source": [
    "Maps=[]\n",
    "# For a day d in a week we will creat a function that takes as argument a day in a week and gives for return a graph represinting \n",
    "#\"La moyenne des vélos\" that had passed in that day by each station \n",
    "# and then we will creat an image for each day"
   ]
  },
  {
   "cell_type": "code",
   "execution_count": 17,
   "metadata": {},
   "outputs": [],
   "source": [
    "#Monday map\n",
    "map_ = folium.Map([43.61092 ,3.87723],edge_color ='k',tiles = \"CartoDB dark_matter\" )\n",
    "monday_index = list()\n",
    "byciclesnmb_monday = list()\n",
    "for i in np.arange(start = 0 , stop = len(df1)) : \n",
    "    if (df1[i] == 0):\n",
    "        monday_index.append(i)\n",
    "\n",
    "for i in monday_index : \n",
    "    byciclesnmb_monday.append(data['Column2'][i])\n",
    "len(monday_index) #= 8 \n",
    "len(byciclesnmb_monday) #=8\n",
    "lat_monday = list()\n",
    "for i in monday_index :\n",
    "    lat_monday.append(data['Column3'][i])\n",
    "\n",
    "lon_monday = list()\n",
    "for i in monday_index :\n",
    "    lon_monday.append(data['Column4'][i])"
   ]
  },
  {
   "cell_type": "code",
   "execution_count": 21,
   "metadata": {},
   "outputs": [],
   "source": [
    "_radius=list()\n",
    "for i in np.arange(start = 0,stop= len(byciclesnmb_monday)) : \n",
    "    _radius.append(radius(byciclesnmb_monday[i]))\n",
    "\n",
    "_colors = list()\n",
    "for i in np.arange(start = 0,stop= len(byciclesnmb_monday)) : \n",
    "    _colors.append(color(byciclesnmb_monday[i]))\n",
    "\n",
    "_fill_color = list()\n",
    "for i in np.arange(start = 0,stop= len(byciclesnmb_monday)) : \n",
    "    _fill_color.append(fill_color(byciclesnmb_monday[i]))\n"
   ]
  },
  {
   "cell_type": "code",
   "execution_count": 22,
   "metadata": {},
   "outputs": [],
   "source": [
    "Maps.append(\n",
    "    (map_,'map.png')\n",
    ")\n",
    "map_.save('map.html')"
   ]
  },
  {
   "cell_type": "code",
   "execution_count": 23,
   "metadata": {},
   "outputs": [],
   "source": [
    "#Tuesday Map\n",
    "tuesday_index = list()\n",
    "byciclesnmb_tuesday = list()\n",
    "for i in np.arange(start = 0 , stop = len(df1)-1) : \n",
    "    if (df1[i] == 1):\n",
    "        tuesday_index.append(i)\n",
    "\n",
    "for i in tuesday_index : \n",
    "    byciclesnmb_tuesday.append(data['Column2'][i])\n",
    "len(tuesday_index) #= 8 \n",
    "len(byciclesnmb_tuesday) #=8\n",
    "lat_tuesday = list()\n",
    "for i in tuesday_index :\n",
    "    lat_tuesday.append(data['Column3'][i])\n",
    "\n",
    "lon_tuesday = list()\n",
    "for i in tuesday_index :\n",
    "    lon_tuesday.append(data['Column4'][i])\n"
   ]
  },
  {
   "cell_type": "code",
   "execution_count": 24,
   "metadata": {},
   "outputs": [],
   "source": [
    "\n",
    "_radius=list()\n",
    "for i in np.arange(start = 0,stop= len(byciclesnmb_tuesday)) : \n",
    "    _radius.append(radius(byciclesnmb_tuesday[i]))\n",
    "\n",
    "_colors = list()\n",
    "for i in np.arange(start = 0,stop= len(byciclesnmb_tuesday)) : \n",
    "    _colors.append(color(byciclesnmb_tuesday[i]))\n",
    "\n"
   ]
  },
  {
   "cell_type": "code",
   "execution_count": 25,
   "metadata": {},
   "outputs": [],
   "source": [
    "\n",
    "for i in np.arange(start=0 , stop=len(tuesday_index)-1) : \n",
    "         folium.CircleMarker(location = [lat_tuesday[i],lon_tuesday[i]],\n",
    "                        radius = _radius[i], \n",
    "                        color = _colors[i], \n",
    "                        fill_opacity = 0.9).add_to(map_)\n"
   ]
  },
  {
   "cell_type": "code",
   "execution_count": 26,
   "metadata": {},
   "outputs": [],
   "source": [
    "Maps.append(\n",
    "    (map_,'map1.html')\n",
    ")\n",
    "map_.save('map1.html')"
   ]
  },
  {
   "cell_type": "code",
   "execution_count": 27,
   "metadata": {},
   "outputs": [],
   "source": [
    "#Wednesday Map\n",
    "wednesday_index = list()\n",
    "byciclesnmb_wednesday = list()\n",
    "for i in np.arange(start = 0 , stop = len(df1)-1) : \n",
    "    if (df1[i] == 2):\n",
    "        wednesday_index.append(i)\n",
    "\n",
    "for i in wednesday_index : \n",
    "    byciclesnmb_wednesday.append(data['Column2'][i])\n",
    "len(wednesday_index)  \n",
    "len(byciclesnmb_wednesday) \n",
    "lat_wednesday = list()\n",
    "for i in wednesday_index :\n",
    "    lat_wednesday.append(data['Column3'][i])\n",
    "\n",
    "lon_wednesday = list()\n",
    "for i in wednesday_index :\n",
    "    lon_wednesday.append(data['Column4'][i])\n"
   ]
  },
  {
   "cell_type": "code",
   "execution_count": 28,
   "metadata": {},
   "outputs": [],
   "source": [
    "\n",
    "_radius=list()\n",
    "for i in np.arange(start = 0,stop= len(byciclesnmb_wednesday)) : \n",
    "    _radius.append(radius(byciclesnmb_wednesday[i]))\n",
    "\n",
    "_colors = list()\n",
    "for i in np.arange(start = 0,stop= len(byciclesnmb_wednesday)) : \n",
    "    _colors.append(color(byciclesnmb_wednesday[i]))\n",
    "\n"
   ]
  },
  {
   "cell_type": "code",
   "execution_count": 29,
   "metadata": {},
   "outputs": [],
   "source": [
    "Maps.append(\n",
    "    (map_,'map2.html')\n",
    ")\n",
    "map_.save('map2.html')"
   ]
  },
  {
   "cell_type": "code",
   "execution_count": 30,
   "metadata": {},
   "outputs": [],
   "source": [
    "#Thersday Map\n",
    "thursday_index = list()\n",
    "byciclesnmb_thursday = list()\n",
    "for i in np.arange(start = 0 , stop = len(df1)-1) : \n",
    "    if (df1[i] == 3):\n",
    "        thursday_index.append(i)\n",
    "\n",
    "for i in thursday_index : \n",
    "    byciclesnmb_thursday.append(data['Column2'][i])\n",
    "len(thursday_index) #= 8 \n",
    "len(byciclesnmb_thursday) #=8\n",
    "lat_thursday = list()\n",
    "for i in thursday_index :\n",
    "    lat_thursday.append(data['Column3'][i])\n",
    "\n",
    "lon_thursday = list()\n",
    "for i in thursday_index :\n",
    "    lon_thursday.append(data['Column4'][i])"
   ]
  },
  {
   "cell_type": "code",
   "execution_count": 31,
   "metadata": {},
   "outputs": [],
   "source": [
    "_radius=list()\n",
    "for i in np.arange(start = 0,stop= len(byciclesnmb_thursday)) : \n",
    "    _radius.append(radius(byciclesnmb_thursday[i]))\n",
    "\n",
    "_colors = list()\n",
    "for i in np.arange(start = 0,stop= len(byciclesnmb_thursday)) : \n",
    "    _colors.append(color(byciclesnmb_thursday[i]))"
   ]
  },
  {
   "cell_type": "code",
   "execution_count": 32,
   "metadata": {},
   "outputs": [],
   "source": [
    "\n",
    "for i in np.arange(start=0 , stop=len(wednesday_index)-1) : \n",
    "         folium.CircleMarker(location = [lat_thursday[i],lon_thursday[i]],\n",
    "                        radius = _radius[i], \n",
    "                        color = _colors[i], \n",
    "                        fill_opacity = 0.9).add_to(map_)\n",
    "\n"
   ]
  },
  {
   "cell_type": "code",
   "execution_count": 33,
   "metadata": {},
   "outputs": [],
   "source": [
    "Maps.append(\n",
    "    (map_,'map2.html')\n",
    ")\n",
    "map_.save('map3.html')"
   ]
  },
  {
   "cell_type": "code",
   "execution_count": 34,
   "metadata": {},
   "outputs": [],
   "source": [
    "# Friday Map\n",
    "friday_index = list()\n",
    "byciclesnmb_friday = list()\n",
    "for i in np.arange(start = 0 , stop = len(df1)-1) : \n",
    "    if (df1[i] == 4):\n",
    "        friday_index.append(i)\n",
    "\n",
    "for i in friday_index : \n",
    "    byciclesnmb_friday.append(data['Column2'][i])\n",
    "len(friday_index) #= 8 \n",
    "len(byciclesnmb_friday) #=8\n",
    "lat_friday= list()\n",
    "for i in friday_index :\n",
    "    lat_friday.append(data['Column3'][i])\n",
    "\n",
    "lon_friday = list()\n",
    "for i in friday_index :\n",
    "    lon_friday.append(data['Column4'][i])\n"
   ]
  },
  {
   "cell_type": "code",
   "execution_count": 35,
   "metadata": {},
   "outputs": [],
   "source": [
    "\n",
    "_radius=list()\n",
    "for i in np.arange(start = 0,stop= len(byciclesnmb_friday)) : \n",
    "    _radius.append(radius(byciclesnmb_friday[i]))\n",
    "\n",
    "_colors = list()\n",
    "for i in np.arange(start = 0,stop= len(byciclesnmb_friday)) : \n",
    "    _colors.append(color(byciclesnmb_friday[i]))\n"
   ]
  },
  {
   "cell_type": "code",
   "execution_count": 36,
   "metadata": {},
   "outputs": [],
   "source": [
    "for i in np.arange(start=0 , stop=len(friday_index)-1) : \n",
    "         folium.CircleMarker(location = [lat_friday[i],lon_friday[i]],\n",
    "                        radius = _radius[i], \n",
    "                        color = _colors[i], \n",
    "                        fill_opacity = 0.9).add_to(map_)\n",
    "\n",
    "Maps.append(\n",
    "    (map_,'map4.html')\n",
    ")\n",
    "map_.save('map4.html')"
   ]
  },
  {
   "cell_type": "code",
   "execution_count": 37,
   "metadata": {},
   "outputs": [],
   "source": [
    "#Satyrday Map\n",
    "saturday_index = list()\n",
    "byciclesnmb_saturday = list()\n",
    "for i in np.arange(start = 0 , stop = len(df1)-1) : \n",
    "    if (df1[i] == 5):\n",
    "       saturday_index.append(i)\n",
    "\n",
    "for i in saturday_index : \n",
    "    byciclesnmb_saturday.append(data['Column2'][i])\n",
    "len(saturday_index) #= 8 \n",
    "len(byciclesnmb_saturday) #=8\n",
    "lat_saturday = list()\n",
    "for i in saturday_index :\n",
    "    lat_saturday.append(data['Column3'][i])\n",
    "\n",
    "lon_saturday = list()\n",
    "for i in saturday_index :\n",
    "    lon_saturday.append(data['Column4'][i])"
   ]
  },
  {
   "cell_type": "code",
   "execution_count": 38,
   "metadata": {},
   "outputs": [],
   "source": [
    "\n",
    "_radius=list()\n",
    "for i in np.arange(start = 0,stop= len(byciclesnmb_saturday)) : \n",
    "    _radius.append(radius(byciclesnmb_saturday[i]))\n",
    "\n",
    "_colors = list()\n",
    "for i in np.arange(start = 0,stop= len(byciclesnmb_saturday)) : \n",
    "    _colors.append(color(byciclesnmb_saturday[i]))\n"
   ]
  },
  {
   "cell_type": "code",
   "execution_count": 39,
   "metadata": {},
   "outputs": [],
   "source": [
    "\n",
    "for i in np.arange(start=0 , stop=len(saturday_index)-1) : \n",
    "         folium.CircleMarker(location = [lat_saturday[i],lon_saturday[i]],\n",
    "                        radius = _radius[i], \n",
    "                        color = _colors[i], \n",
    "                        fill_opacity = 0.9).add_to(map_)\n",
    "\n",
    "Maps.append(\n",
    "    (map_,'map5.html')\n",
    ")\n",
    "map_.save('map5.html')"
   ]
  },
  {
   "cell_type": "code",
   "execution_count": 40,
   "metadata": {},
   "outputs": [],
   "source": [
    "#Sunday Map\n",
    "sunday_index = list()\n",
    "byciclesnmb_sunday = list()\n",
    "for i in np.arange(start = 0 , stop = len(df1)-1) : \n",
    "    if (df1[i] == 6):\n",
    "       sunday_index.append(i)\n",
    "\n",
    "for i in sunday_index : \n",
    "    byciclesnmb_sunday.append(data['Column2'][i])\n",
    "len(sunday_index) \n",
    "len(byciclesnmb_sunday) \n",
    "lat_sunday = list()\n",
    "for i in sunday_index :\n",
    "    lat_sunday.append(data['Column3'][i])\n",
    "\n",
    "lon_sunday = list()\n",
    "for i in sunday_index :\n",
    "    lon_sunday.append(data['Column4'][i])"
   ]
  },
  {
   "cell_type": "code",
   "execution_count": 41,
   "metadata": {},
   "outputs": [],
   "source": [
    "\n",
    "_radius=list()\n",
    "for i in np.arange(start = 0,stop= len(byciclesnmb_sunday)) : \n",
    "    _radius.append(radius(byciclesnmb_sunday[i]))\n",
    "\n",
    "_colors = list()\n",
    "for i in np.arange(start = 0,stop= len(byciclesnmb_sunday)) : \n",
    "    _colors.append(color(byciclesnmb_sunday[i]))\n",
    "\n"
   ]
  },
  {
   "cell_type": "code",
   "execution_count": null,
   "metadata": {},
   "outputs": [],
   "source": [
    "\n",
    "for i in np.arange(start=0 , stop=len(sunday_index)-1) : \n",
    "         folium.CircleMarker(location = [lat_sunday[i],lon_sunday[i]],\n",
    "                        radius = _radius[i], \n",
    "                        color = _colors[i], \n",
    "                        fill_opacity = 0.9).add_to(map_)\n",
    "\n",
    "Maps.append(\n",
    "    (map_,'map6.html')\n",
    ")\n",
    "map_.save('map6.html')"
   ]
  }
 ],
 "metadata": {
  "kernelspec": {
   "display_name": "Python 3",
   "language": "python",
   "name": "python3"
  },
  "language_info": {
   "codemirror_mode": {
    "name": "ipython",
    "version": 3
   },
   "file_extension": ".py",
   "mimetype": "text/x-python",
   "name": "python",
   "nbconvert_exporter": "python",
   "pygments_lexer": "ipython3",
   "version": "3.8.5"
  }
 },
 "nbformat": 4,
 "nbformat_minor": 4
}
