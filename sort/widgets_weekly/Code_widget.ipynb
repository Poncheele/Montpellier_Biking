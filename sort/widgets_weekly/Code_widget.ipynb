{
 "cells": [
  {
   "cell_type": "code",
   "execution_count": 18,
   "metadata": {},
   "outputs": [],
   "source": [
    "import ipywidgets as widgets\n"
   ]
  },
  {
   "cell_type": "code",
   "execution_count": 14,
   "metadata": {},
   "outputs": [],
   "source": [
    "img0 = open(\"C:/Users/wiam chaoui/Desktop/projetdevlog/Montpellier_Biking/Montpellier_Biking/widgets_weekly/maps_png/map0.png\",\"rb\")\n",
    "img1 = open(\"C:/Users/wiam chaoui/Desktop/projetdevlog/Montpellier_Biking/Montpellier_Biking/widgets_weekly/maps_png/map1.png\",\"rb\")\n",
    "img2 = open(\"C:/Users/wiam chaoui/Desktop/projetdevlog/Montpellier_Biking/Montpellier_Biking/widgets_weekly/maps_png/map2.png\",\"rb\")\n",
    "img3 = open(\"C:/Users/wiam chaoui/Desktop/projetdevlog/Montpellier_Biking/Montpellier_Biking/widgets_weekly/maps_png/map3.png\",\"rb\")\n",
    "img4 = open(\"C:/Users/wiam chaoui/Desktop/projetdevlog/Montpellier_Biking/Montpellier_Biking/widgets_weekly/maps_png/map4.png\",\"rb\")\n",
    "img5 = open(\"C:/Users/wiam chaoui/Desktop/projetdevlog/Montpellier_Biking/Montpellier_Biking/widgets_weekly/maps_png/map5.png\",\"rb\")\n",
    "img6 = open(\"C:/Users/wiam chaoui/Desktop/projetdevlog/Montpellier_Biking/Montpellier_Biking/widgets_weekly/maps_png/map6.png\",\"rb\")\n",
    "img_list = [img0,img1,img2,img3,img4,img5,img6]\n",
    "    "
   ]
  },
  {
   "cell_type": "code",
   "execution_count": 11,
   "metadata": {},
   "outputs": [],
   "source": [
    "def img_read_fun(x):\n",
    "    x = x.read()\n",
    "    return x"
   ]
  },
  {
   "cell_type": "code",
   "execution_count": 16,
   "metadata": {},
   "outputs": [],
   "source": [
    "img_re =[]\n",
    "for i in img_list :\n",
    "    img_re.append(img_read_fun(i))\n",
    "    \n",
    "    "
   ]
  },
  {
   "cell_type": "code",
   "execution_count": 20,
   "metadata": {},
   "outputs": [],
   "source": [
    "widgets_imgs = []\n",
    "for i in img_re :\n",
    "    widgets_imgs.append(widgets.Image(\n",
    "    value = i,\n",
    "    format='png',\n",
    "    width = 300,\n",
    "    height =400,\n",
    "    )\n",
    "                       )"
   ]
  },
  {
   "cell_type": "code",
   "execution_count": null,
   "metadata": {},
   "outputs": [],
   "source": []
  }
 ],
 "metadata": {
  "kernelspec": {
   "display_name": "Python 3",
   "language": "python",
   "name": "python3"
  },
  "language_info": {
   "codemirror_mode": {
    "name": "ipython",
    "version": 3
   },
   "file_extension": ".py",
   "mimetype": "text/x-python",
   "name": "python",
   "nbconvert_exporter": "python",
   "pygments_lexer": "ipython3",
   "version": "3.8.5"
  }
 },
 "nbformat": 4,
 "nbformat_minor": 4
}
