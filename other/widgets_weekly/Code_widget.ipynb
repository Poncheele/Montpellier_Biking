{
 "cells": [
  {
   "cell_type": "code",
   "execution_count": 1,
   "metadata": {},
   "outputs": [
    {
     "output_type": "error",
     "ename": "ModuleNotFoundError",
     "evalue": "No module named 'ipywidgets'",
     "traceback": [
      "\u001b[1;31m---------------------------------------------------------------------------\u001b[0m",
      "\u001b[1;31mModuleNotFoundError\u001b[0m                       Traceback (most recent call last)",
      "\u001b[1;32m<ipython-input-1-59ea40160d84>\u001b[0m in \u001b[0;36m<module>\u001b[1;34m\u001b[0m\n\u001b[1;32m----> 1\u001b[1;33m \u001b[1;32mimport\u001b[0m \u001b[0mipywidgets\u001b[0m \u001b[1;32mas\u001b[0m \u001b[0mwidgets\u001b[0m\u001b[1;33m\u001b[0m\u001b[1;33m\u001b[0m\u001b[0m\n\u001b[0m",
      "\u001b[1;31mModuleNotFoundError\u001b[0m: No module named 'ipywidgets'"
     ]
    }
   ],
   "source": [
    "import ipywidgets as widgets\n"
   ]
  },
  {
   "cell_type": "code",
   "execution_count": 14,
   "metadata": {},
   "outputs": [],
   "source": [
    "img0 = open(\"C:/Users/wiam chaoui/Desktop/projetdevlog/Montpellier_Biking/Montpellier_Biking/widgets_weekly/maps_png/map0.png\",\"rb\")\n",
    "img1 = open(\"C:/Users/wiam chaoui/Desktop/projetdevlog/Montpellier_Biking/Montpellier_Biking/widgets_weekly/maps_png/map1.png\",\"rb\")\n",
    "img2 = open(\"C:/Users/wiam chaoui/Desktop/projetdevlog/Montpellier_Biking/Montpellier_Biking/widgets_weekly/maps_png/map2.png\",\"rb\")\n",
    "img3 = open(\"C:/Users/wiam chaoui/Desktop/projetdevlog/Montpellier_Biking/Montpellier_Biking/widgets_weekly/maps_png/map3.png\",\"rb\")\n",
    "img4 = open(\"C:/Users/wiam chaoui/Desktop/projetdevlog/Montpellier_Biking/Montpellier_Biking/widgets_weekly/maps_png/map4.png\",\"rb\")\n",
    "img5 = open(\"C:/Users/wiam chaoui/Desktop/projetdevlog/Montpellier_Biking/Montpellier_Biking/widgets_weekly/maps_png/map5.png\",\"rb\")\n",
    "img6 = open(\"C:/Users/wiam chaoui/Desktop/projetdevlog/Montpellier_Biking/Montpellier_Biking/widgets_weekly/maps_png/map6.png\",\"rb\")\n",
    "img_list = [img0,img1,img2,img3,img4,img5,img6]\n",
    "    "
   ]
  },
  {
   "cell_type": "code",
   "execution_count": 11,
   "metadata": {},
   "outputs": [],
   "source": [
    "def img_read_fun(x):\n",
    "    x = x.read()\n",
    "    return x"
   ]
  },
  {
   "cell_type": "code",
   "execution_count": 16,
   "metadata": {},
   "outputs": [],
   "source": [
    "img_re =[]\n",
    "for i in img_list :\n",
    "    img_re.append(img_read_fun(i))\n",
    "    \n",
    "    "
   ]
  },
  {
   "cell_type": "code",
   "execution_count": 20,
   "metadata": {},
   "outputs": [],
   "source": [
    "widgets_imgs = []\n",
    "for i in img_re :\n",
    "    widgets_imgs.append(widgets.Image(\n",
    "    value = i,\n",
    "    format='png',\n",
    "    width = 300,\n",
    "    height =400,\n",
    "    )\n",
    "                       )"
   ]
  },
  {
   "cell_type": "code",
   "execution_count": null,
   "metadata": {},
   "outputs": [],
   "source": []
  }
 ],
 "metadata": {
  "kernelspec": {
   "name": "python392jvsc74a57bd0fa5c564cb8e4bdbe41f11c507a9c3e357007573ddf2ca875b6c8cf7715a7057e",
   "display_name": "Python 3.9.2 64-bit ('ox': conda)"
  },
  "language_info": {
   "codemirror_mode": {
    "name": "ipython",
    "version": 3
   },
   "file_extension": ".py",
   "mimetype": "text/x-python",
   "name": "python",
   "nbconvert_exporter": "python",
   "pygments_lexer": "ipython3",
   "version": "3.9.2"
  }
 },
 "nbformat": 4,
 "nbformat_minor": 4
}